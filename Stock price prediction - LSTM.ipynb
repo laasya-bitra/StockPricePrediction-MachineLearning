{
 "cells": [
  {
   "cell_type": "code",
   "execution_count": 1,
   "id": "78f8c07d-e924-4700-b90c-b29f8e3ee2f8",
   "metadata": {},
   "outputs": [],
   "source": [
    "import numpy as np # linear algebra\n",
    "import pandas as pd # data processing, CSV file I/O (e.g. pd.read_csv)\n",
    "import os\n",
    "#print(os.listdir(\"../input\"))\n",
    "\n",
    "import matplotlib.pylab as plt\n",
    "%matplotlib inline\n",
    "from matplotlib.pylab import rcParams\n",
    "rcParams['figure.figsize'] = 15, 6\n",
    "\n",
    "from sklearn.preprocessing import MinMaxScaler\n",
    "from keras.models import Sequential\n",
    "from keras.layers import Dense\n",
    "from keras.layers import LSTM\n",
    "from keras.layers import Dropout\n",
    "\n",
    "import math\n",
    "from sklearn.metrics import mean_squared_error"
   ]
  },
  {
   "cell_type": "code",
   "execution_count": 2,
   "id": "9d775909-2dfc-4436-8772-598656ed987d",
   "metadata": {},
   "outputs": [],
   "source": [
    "train_data = pd.read_csv(\"train.csv\", header=0)"
   ]
  },
  {
   "cell_type": "code",
   "execution_count": 3,
   "id": "65c4df37-c01f-452c-b223-9dd8864b1fd1",
   "metadata": {},
   "outputs": [
    {
     "data": {
      "text/html": [
       "<div>\n",
       "<style scoped>\n",
       "    .dataframe tbody tr th:only-of-type {\n",
       "        vertical-align: middle;\n",
       "    }\n",
       "\n",
       "    .dataframe tbody tr th {\n",
       "        vertical-align: top;\n",
       "    }\n",
       "\n",
       "    .dataframe thead th {\n",
       "        text-align: right;\n",
       "    }\n",
       "</style>\n",
       "<table border=\"1\" class=\"dataframe\">\n",
       "  <thead>\n",
       "    <tr style=\"text-align: right;\">\n",
       "      <th></th>\n",
       "      <th>Date</th>\n",
       "      <th>Open</th>\n",
       "      <th>High</th>\n",
       "      <th>Low</th>\n",
       "      <th>Close</th>\n",
       "      <th>Adj Close</th>\n",
       "      <th>Volume</th>\n",
       "    </tr>\n",
       "  </thead>\n",
       "  <tbody>\n",
       "    <tr>\n",
       "      <th>0</th>\n",
       "      <td>2009-12-31</td>\n",
       "      <td>30.447144</td>\n",
       "      <td>30.478571</td>\n",
       "      <td>30.080000</td>\n",
       "      <td>30.104286</td>\n",
       "      <td>20.230061</td>\n",
       "      <td>88102700</td>\n",
       "    </tr>\n",
       "    <tr>\n",
       "      <th>1</th>\n",
       "      <td>2010-01-04</td>\n",
       "      <td>30.490000</td>\n",
       "      <td>30.642857</td>\n",
       "      <td>30.340000</td>\n",
       "      <td>30.572857</td>\n",
       "      <td>20.544939</td>\n",
       "      <td>123432400</td>\n",
       "    </tr>\n",
       "    <tr>\n",
       "      <th>2</th>\n",
       "      <td>2010-01-05</td>\n",
       "      <td>30.657143</td>\n",
       "      <td>30.798571</td>\n",
       "      <td>30.464285</td>\n",
       "      <td>30.625713</td>\n",
       "      <td>20.580460</td>\n",
       "      <td>150476200</td>\n",
       "    </tr>\n",
       "    <tr>\n",
       "      <th>3</th>\n",
       "      <td>2010-01-06</td>\n",
       "      <td>30.625713</td>\n",
       "      <td>30.747143</td>\n",
       "      <td>30.107143</td>\n",
       "      <td>30.138571</td>\n",
       "      <td>20.253105</td>\n",
       "      <td>138040000</td>\n",
       "    </tr>\n",
       "    <tr>\n",
       "      <th>4</th>\n",
       "      <td>2010-01-07</td>\n",
       "      <td>30.250000</td>\n",
       "      <td>30.285715</td>\n",
       "      <td>29.864286</td>\n",
       "      <td>30.082857</td>\n",
       "      <td>20.215658</td>\n",
       "      <td>119282800</td>\n",
       "    </tr>\n",
       "  </tbody>\n",
       "</table>\n",
       "</div>"
      ],
      "text/plain": [
       "         Date       Open       High        Low      Close  Adj Close  \\\n",
       "0  2009-12-31  30.447144  30.478571  30.080000  30.104286  20.230061   \n",
       "1  2010-01-04  30.490000  30.642857  30.340000  30.572857  20.544939   \n",
       "2  2010-01-05  30.657143  30.798571  30.464285  30.625713  20.580460   \n",
       "3  2010-01-06  30.625713  30.747143  30.107143  30.138571  20.253105   \n",
       "4  2010-01-07  30.250000  30.285715  29.864286  30.082857  20.215658   \n",
       "\n",
       "      Volume  \n",
       "0   88102700  \n",
       "1  123432400  \n",
       "2  150476200  \n",
       "3  138040000  \n",
       "4  119282800  "
      ]
     },
     "execution_count": 3,
     "metadata": {},
     "output_type": "execute_result"
    }
   ],
   "source": [
    "train_data.head()"
   ]
  },
  {
   "cell_type": "code",
   "execution_count": 4,
   "id": "80cdaf13-78dc-466f-ae0a-9013d5c5d00b",
   "metadata": {},
   "outputs": [],
   "source": [
    "test_data = pd.read_csv(\"test.csv\")"
   ]
  },
  {
   "cell_type": "code",
   "execution_count": 5,
   "id": "ace5b8a6-72f2-4afb-b118-630011473f9c",
   "metadata": {},
   "outputs": [
    {
     "data": {
      "text/html": [
       "<div>\n",
       "<style scoped>\n",
       "    .dataframe tbody tr th:only-of-type {\n",
       "        vertical-align: middle;\n",
       "    }\n",
       "\n",
       "    .dataframe tbody tr th {\n",
       "        vertical-align: top;\n",
       "    }\n",
       "\n",
       "    .dataframe thead th {\n",
       "        text-align: right;\n",
       "    }\n",
       "</style>\n",
       "<table border=\"1\" class=\"dataframe\">\n",
       "  <thead>\n",
       "    <tr style=\"text-align: right;\">\n",
       "      <th></th>\n",
       "      <th>Date</th>\n",
       "      <th>Open</th>\n",
       "      <th>High</th>\n",
       "      <th>Low</th>\n",
       "      <th>Close</th>\n",
       "      <th>Adj Close</th>\n",
       "      <th>Volume</th>\n",
       "    </tr>\n",
       "  </thead>\n",
       "  <tbody>\n",
       "    <tr>\n",
       "      <th>0</th>\n",
       "      <td>2017-01-03</td>\n",
       "      <td>115.800003</td>\n",
       "      <td>116.330002</td>\n",
       "      <td>114.760002</td>\n",
       "      <td>116.150002</td>\n",
       "      <td>113.013916</td>\n",
       "      <td>28781900</td>\n",
       "    </tr>\n",
       "    <tr>\n",
       "      <th>1</th>\n",
       "      <td>2017-01-04</td>\n",
       "      <td>115.849998</td>\n",
       "      <td>116.510002</td>\n",
       "      <td>115.750000</td>\n",
       "      <td>116.019997</td>\n",
       "      <td>112.887413</td>\n",
       "      <td>21118100</td>\n",
       "    </tr>\n",
       "    <tr>\n",
       "      <th>2</th>\n",
       "      <td>2017-01-05</td>\n",
       "      <td>115.919998</td>\n",
       "      <td>116.860001</td>\n",
       "      <td>115.809998</td>\n",
       "      <td>116.610001</td>\n",
       "      <td>113.461502</td>\n",
       "      <td>22193600</td>\n",
       "    </tr>\n",
       "    <tr>\n",
       "      <th>3</th>\n",
       "      <td>2017-01-06</td>\n",
       "      <td>116.779999</td>\n",
       "      <td>118.160004</td>\n",
       "      <td>116.470001</td>\n",
       "      <td>117.910004</td>\n",
       "      <td>114.726402</td>\n",
       "      <td>31751900</td>\n",
       "    </tr>\n",
       "    <tr>\n",
       "      <th>4</th>\n",
       "      <td>2017-01-09</td>\n",
       "      <td>117.949997</td>\n",
       "      <td>119.430000</td>\n",
       "      <td>117.940002</td>\n",
       "      <td>118.989998</td>\n",
       "      <td>115.777237</td>\n",
       "      <td>33561900</td>\n",
       "    </tr>\n",
       "  </tbody>\n",
       "</table>\n",
       "</div>"
      ],
      "text/plain": [
       "         Date        Open        High         Low       Close   Adj Close  \\\n",
       "0  2017-01-03  115.800003  116.330002  114.760002  116.150002  113.013916   \n",
       "1  2017-01-04  115.849998  116.510002  115.750000  116.019997  112.887413   \n",
       "2  2017-01-05  115.919998  116.860001  115.809998  116.610001  113.461502   \n",
       "3  2017-01-06  116.779999  118.160004  116.470001  117.910004  114.726402   \n",
       "4  2017-01-09  117.949997  119.430000  117.940002  118.989998  115.777237   \n",
       "\n",
       "     Volume  \n",
       "0  28781900  \n",
       "1  21118100  \n",
       "2  22193600  \n",
       "3  31751900  \n",
       "4  33561900  "
      ]
     },
     "execution_count": 5,
     "metadata": {},
     "output_type": "execute_result"
    }
   ],
   "source": [
    "test_data.head()"
   ]
  },
  {
   "cell_type": "code",
   "execution_count": 6,
   "id": "1cec205f-602c-4fc5-977a-d7c8f1810b5a",
   "metadata": {},
   "outputs": [
    {
     "name": "stderr",
     "output_type": "stream",
     "text": [
      "C:\\Users\\Srilaasya\\AppData\\Local\\Temp\\ipykernel_7020\\2263411740.py:1: FutureWarning: The pandas.datetime class is deprecated and will be removed from pandas in a future version. Import from datetime module instead.\n",
      "  dateparse = lambda dates: pd.datetime.strptime(dates, '%Y-%m-%d')\n"
     ]
    }
   ],
   "source": [
    "dateparse = lambda dates: pd.datetime.strptime(dates, '%Y-%m-%d')\n",
    "data_train = pd.read_csv('train.csv', parse_dates=['Date'], index_col='Date',date_parser=dateparse)"
   ]
  },
  {
   "cell_type": "code",
   "execution_count": 7,
   "id": "a6092f2b-7444-46ed-9e5f-7e51ef6ba927",
   "metadata": {},
   "outputs": [
    {
     "data": {
      "text/plain": [
       "[<matplotlib.lines.Line2D at 0x1ca224d9520>]"
      ]
     },
     "execution_count": 7,
     "metadata": {},
     "output_type": "execute_result"
    },
    {
     "data": {
      "image/png": "[encoded data removed]",
      "text/plain": [
       "<Figure size 1080x432 with 1 Axes>"
      ]
     },
     "metadata": {
      "needs_background": "light"
     },
     "output_type": "display_data"
    }
   ],
   "source": [
    "ts = data_train['Open'] \n",
    "plt.xlabel('Dates')\n",
    "plt.ylabel('Open Prices')\n",
    "plt.plot(ts)"
   ]
  },
  {
   "cell_type": "code",
   "execution_count": 8,
   "id": "3021e950-f91e-4cd1-9b24-d7bbcc2b01c9",
   "metadata": {},
   "outputs": [
    {
     "name": "stderr",
     "output_type": "stream",
     "text": [
      "C:\\Users\\Srilaasya\\AppData\\Local\\Temp\\ipykernel_7020\\2263411740.py:1: FutureWarning: The pandas.datetime class is deprecated and will be removed from pandas in a future version. Import from datetime module instead.\n",
      "  dateparse = lambda dates: pd.datetime.strptime(dates, '%Y-%m-%d')\n"
     ]
    }
   ],
   "source": [
    "data_test = pd.read_csv('test.csv', parse_dates=['Date'], index_col='Date',date_parser=dateparse)"
   ]
  },
  {
   "cell_type": "code",
   "execution_count": 9,
   "id": "288b9056-f3e5-42c9-926e-4356f2eb4be8",
   "metadata": {},
   "outputs": [
    {
     "data": {
      "text/plain": [
       "[<matplotlib.lines.Line2D at 0x1ca319b3610>]"
      ]
     },
     "execution_count": 9,
     "metadata": {},
     "output_type": "execute_result"
    },
    {
     "data": {
      "image/png": "[encoded data removed]",
      "text/plain": [
       "<Figure size 1080x432 with 1 Axes>"
      ]
     },
     "metadata": {
      "needs_background": "light"
     },
     "output_type": "display_data"
    }
   ],
   "source": [
    "ts = data_test['Open'] \n",
    "plt.xlabel('Dates')\n",
    "plt.ylabel('Open Prices')\n",
    "plt.plot(ts)"
   ]
  },
  {
   "cell_type": "code",
   "execution_count": 10,
   "id": "5bfd612f-1727-4dd0-8aad-109e94c7ebce",
   "metadata": {},
   "outputs": [],
   "source": [
    "train = train_data.iloc[:, 1:2].values"
   ]
  },
  {
   "cell_type": "code",
   "execution_count": 11,
   "id": "a785cffc-2e8d-48ee-a16a-817d14150dd5",
   "metadata": {},
   "outputs": [],
   "source": [
    "scaler = MinMaxScaler()\n",
    "train_scaled = scaler.fit_transform(train)"
   ]
  },
  {
   "cell_type": "code",
   "execution_count": 12,
   "id": "ac903236-e56f-4cbe-9f51-0cc6ee19b6f8",
   "metadata": {},
   "outputs": [],
   "source": [
    "X_train = []\n",
    "y_train = []\n",
    "for i in range(60, train.shape[0]):\n",
    "    X_train.append(train_scaled[i-60:i, 0])\n",
    "    y_train.append(train_scaled[i, 0])\n",
    "X_train, y_train = np.array(X_train), np.array(y_train)"
   ]
  },
  {
   "cell_type": "code",
   "execution_count": 13,
   "id": "3a9356fb-1c41-4e1c-b4f0-4e4beb62ccca",
   "metadata": {},
   "outputs": [],
   "source": [
    "X_train = np.reshape(X_train, (X_train.shape[0], X_train.shape[1], 1))"
   ]
  },
  {
   "cell_type": "code",
   "execution_count": 14,
   "id": "d55cbca8-8ae9-4cf4-aa8b-7f9fcfd928f0",
   "metadata": {},
   "outputs": [
    {
     "name": "stdout",
     "output_type": "stream",
     "text": [
      "Epoch 1/100\n",
      "54/54 [==============================] - 38s 167ms/step - loss: 0.0292\n",
      "Epoch 2/100\n",
      "54/54 [==============================] - 9s 169ms/step - loss: 0.0067\n",
      "Epoch 3/100\n",
      "54/54 [==============================] - 8s 151ms/step - loss: 0.0059\n",
      "Epoch 4/100\n",
      "54/54 [==============================] - 8s 152ms/step - loss: 0.0059\n",
      "Epoch 5/100\n",
      "54/54 [==============================] - 8s 151ms/step - loss: 0.0048\n",
      "Epoch 6/100\n",
      "54/54 [==============================] - 9s 164ms/step - loss: 0.0048\n",
      "Epoch 7/100\n",
      "54/54 [==============================] - 9s 159ms/step - loss: 0.0051\n",
      "Epoch 8/100\n",
      "54/54 [==============================] - 9s 164ms/step - loss: 0.0044\n",
      "Epoch 9/100\n",
      "54/54 [==============================] - 9s 157ms/step - loss: 0.0041\n",
      "Epoch 10/100\n",
      "54/54 [==============================] - 10s 177ms/step - loss: 0.0048\n",
      "Epoch 11/100\n",
      "54/54 [==============================] - 9s 157ms/step - loss: 0.0040\n",
      "Epoch 12/100\n",
      "54/54 [==============================] - 9s 162ms/step - loss: 0.0035\n",
      "Epoch 13/100\n",
      "54/54 [==============================] - 9s 160ms/step - loss: 0.0034\n",
      "Epoch 14/100\n",
      "54/54 [==============================] - 8s 157ms/step - loss: 0.0038\n",
      "Epoch 15/100\n",
      "54/54 [==============================] - 9s 158ms/step - loss: 0.0035\n",
      "Epoch 16/100\n",
      "54/54 [==============================] - 9s 158ms/step - loss: 0.0035\n",
      "Epoch 17/100\n",
      "54/54 [==============================] - 9s 158ms/step - loss: 0.0029\n",
      "Epoch 18/100\n",
      "54/54 [==============================] - 9s 159ms/step - loss: 0.0030\n",
      "Epoch 19/100\n",
      "54/54 [==============================] - 9s 159ms/step - loss: 0.0033\n",
      "Epoch 20/100\n",
      "54/54 [==============================] - 9s 158ms/step - loss: 0.0029\n",
      "Epoch 21/100\n",
      "54/54 [==============================] - 9s 158ms/step - loss: 0.0029\n",
      "Epoch 22/100\n",
      "54/54 [==============================] - 9s 158ms/step - loss: 0.0031\n",
      "Epoch 23/100\n",
      "54/54 [==============================] - 9s 158ms/step - loss: 0.0029\n",
      "Epoch 24/100\n",
      "54/54 [==============================] - 9s 159ms/step - loss: 0.0028\n",
      "Epoch 25/100\n",
      "54/54 [==============================] - 9s 159ms/step - loss: 0.0025\n",
      "Epoch 26/100\n",
      "54/54 [==============================] - 9s 158ms/step - loss: 0.0028\n",
      "Epoch 27/100\n",
      "54/54 [==============================] - 9s 160ms/step - loss: 0.0025\n",
      "Epoch 28/100\n",
      "54/54 [==============================] - 9s 158ms/step - loss: 0.0026\n",
      "Epoch 29/100\n",
      "54/54 [==============================] - 9s 159ms/step - loss: 0.0025\n",
      "Epoch 30/100\n",
      "54/54 [==============================] - 9s 158ms/step - loss: 0.0022\n",
      "Epoch 31/100\n",
      "54/54 [==============================] - 9s 159ms/step - loss: 0.0025\n",
      "Epoch 32/100\n",
      "54/54 [==============================] - 9s 159ms/step - loss: 0.0024\n",
      "Epoch 33/100\n",
      "54/54 [==============================] - 9s 159ms/step - loss: 0.0023\n",
      "Epoch 34/100\n",
      "54/54 [==============================] - 9s 161ms/step - loss: 0.0022\n",
      "Epoch 35/100\n",
      "54/54 [==============================] - 9s 158ms/step - loss: 0.0023\n",
      "Epoch 36/100\n",
      "54/54 [==============================] - 9s 161ms/step - loss: 0.0025\n",
      "Epoch 37/100\n",
      "54/54 [==============================] - 9s 158ms/step - loss: 0.0024\n",
      "Epoch 38/100\n",
      "54/54 [==============================] - 9s 158ms/step - loss: 0.0021\n",
      "Epoch 39/100\n",
      "54/54 [==============================] - 9s 161ms/step - loss: 0.0023\n",
      "Epoch 40/100\n",
      "54/54 [==============================] - 9s 163ms/step - loss: 0.0020\n",
      "Epoch 41/100\n",
      "54/54 [==============================] - 9s 161ms/step - loss: 0.0021\n",
      "Epoch 42/100\n",
      "54/54 [==============================] - 9s 162ms/step - loss: 0.0020\n",
      "Epoch 43/100\n",
      "54/54 [==============================] - 10s 177ms/step - loss: 0.0019\n",
      "Epoch 44/100\n",
      "54/54 [==============================] - 8s 155ms/step - loss: 0.0020\n",
      "Epoch 45/100\n",
      "54/54 [==============================] - 11s 203ms/step - loss: 0.0018\n",
      "Epoch 46/100\n",
      "54/54 [==============================] - 16s 291ms/step - loss: 0.0019\n",
      "Epoch 47/100\n",
      "54/54 [==============================] - 16s 306ms/step - loss: 0.0022\n",
      "Epoch 48/100\n",
      "54/54 [==============================] - 10s 174ms/step - loss: 0.0019\n",
      "Epoch 49/100\n",
      "54/54 [==============================] - 8s 143ms/step - loss: 0.0020\n",
      "Epoch 50/100\n",
      "54/54 [==============================] - 9s 164ms/step - loss: 0.0018\n",
      "Epoch 51/100\n",
      "54/54 [==============================] - 9s 170ms/step - loss: 0.0018\n",
      "Epoch 52/100\n",
      "54/54 [==============================] - 9s 170ms/step - loss: 0.0017\n",
      "Epoch 53/100\n",
      "54/54 [==============================] - 8s 147ms/step - loss: 0.0017\n",
      "Epoch 54/100\n",
      "54/54 [==============================] - 8s 155ms/step - loss: 0.0017\n",
      "Epoch 55/100\n",
      "54/54 [==============================] - 9s 161ms/step - loss: 0.0018\n",
      "Epoch 56/100\n",
      "54/54 [==============================] - 9s 164ms/step - loss: 0.0018\n",
      "Epoch 57/100\n",
      "54/54 [==============================] - 9s 167ms/step - loss: 0.0016\n",
      "Epoch 58/100\n",
      "54/54 [==============================] - 9s 162ms/step - loss: 0.0016\n",
      "Epoch 59/100\n",
      "54/54 [==============================] - 9s 171ms/step - loss: 0.0017\n",
      "Epoch 60/100\n",
      "54/54 [==============================] - 9s 160ms/step - loss: 0.0015\n",
      "Epoch 61/100\n",
      "54/54 [==============================] - 9s 162ms/step - loss: 0.0015\n",
      "Epoch 62/100\n",
      "54/54 [==============================] - 9s 171ms/step - loss: 0.0016\n",
      "Epoch 63/100\n",
      "54/54 [==============================] - 8s 156ms/step - loss: 0.0015\n",
      "Epoch 64/100\n",
      "54/54 [==============================] - 9s 160ms/step - loss: 0.0015\n",
      "Epoch 65/100\n",
      "54/54 [==============================] - 8s 156ms/step - loss: 0.0016\n",
      "Epoch 66/100\n",
      "54/54 [==============================] - 9s 158ms/step - loss: 0.0015\n",
      "Epoch 67/100\n",
      "54/54 [==============================] - 9s 159ms/step - loss: 0.0014\n",
      "Epoch 68/100\n",
      "54/54 [==============================] - 8s 157ms/step - loss: 0.0014\n",
      "Epoch 69/100\n",
      "54/54 [==============================] - 9s 159ms/step - loss: 0.0013\n",
      "Epoch 70/100\n",
      "54/54 [==============================] - 9s 169ms/step - loss: 0.0014\n",
      "Epoch 71/100\n",
      "54/54 [==============================] - 8s 157ms/step - loss: 0.0013\n",
      "Epoch 72/100\n",
      "54/54 [==============================] - 9s 157ms/step - loss: 0.0014\n",
      "Epoch 73/100\n",
      "54/54 [==============================] - 8s 157ms/step - loss: 0.0015\n",
      "Epoch 74/100\n",
      "54/54 [==============================] - 9s 170ms/step - loss: 0.0014\n",
      "Epoch 75/100\n",
      "54/54 [==============================] - 9s 171ms/step - loss: 0.0014\n",
      "Epoch 76/100\n",
      "54/54 [==============================] - 9s 162ms/step - loss: 0.0015\n",
      "Epoch 77/100\n",
      "54/54 [==============================] - 9s 170ms/step - loss: 0.0014\n",
      "Epoch 78/100\n",
      "54/54 [==============================] - 9s 158ms/step - loss: 0.0013\n",
      "Epoch 79/100\n",
      "54/54 [==============================] - 9s 159ms/step - loss: 0.0014\n",
      "Epoch 80/100\n",
      "54/54 [==============================] - 12s 227ms/step - loss: 0.0013\n",
      "Epoch 81/100\n",
      "54/54 [==============================] - 11s 204ms/step - loss: 0.0014\n",
      "Epoch 82/100\n",
      "54/54 [==============================] - 9s 174ms/step - loss: 0.0013\n",
      "Epoch 83/100\n",
      "54/54 [==============================] - 8s 149ms/step - loss: 0.0013\n",
      "Epoch 84/100\n",
      "54/54 [==============================] - 9s 160ms/step - loss: 0.0012\n",
      "Epoch 85/100\n",
      "54/54 [==============================] - 9s 170ms/step - loss: 0.0014\n",
      "Epoch 86/100\n",
      "54/54 [==============================] - 9s 172ms/step - loss: 0.0013\n",
      "Epoch 87/100\n",
      "54/54 [==============================] - 9s 170ms/step - loss: 0.0013\n",
      "Epoch 88/100\n",
      "54/54 [==============================] - 9s 164ms/step - loss: 0.0013\n",
      "Epoch 89/100\n",
      "54/54 [==============================] - 9s 162ms/step - loss: 0.0012\n",
      "Epoch 90/100\n",
      "54/54 [==============================] - 9s 163ms/step - loss: 0.0012\n",
      "Epoch 91/100\n",
      "54/54 [==============================] - 9s 159ms/step - loss: 0.0012\n",
      "Epoch 92/100\n",
      "54/54 [==============================] - 9s 160ms/step - loss: 0.0013\n",
      "Epoch 93/100\n",
      "54/54 [==============================] - 9s 158ms/step - loss: 0.0012\n",
      "Epoch 94/100\n",
      "54/54 [==============================] - 9s 161ms/step - loss: 0.0012\n",
      "Epoch 95/100\n",
      "54/54 [==============================] - 9s 159ms/step - loss: 0.0012\n",
      "Epoch 96/100\n",
      "54/54 [==============================] - 9s 169ms/step - loss: 0.0011\n",
      "Epoch 97/100\n",
      "54/54 [==============================] - 9s 165ms/step - loss: 0.0013\n",
      "Epoch 98/100\n",
      "54/54 [==============================] - 9s 161ms/step - loss: 0.0012\n",
      "Epoch 99/100\n"
     ]
    },
    {
     "name": "stdout",
     "output_type": "stream",
     "text": [
      "54/54 [==============================] - 9s 162ms/step - loss: 0.0012\n",
      "Epoch 100/100\n",
      "54/54 [==============================] - 9s 160ms/step - loss: 0.0013\n"
     ]
    },
    {
     "data": {
      "text/plain": [
       "<keras.callbacks.History at 0x1ca3304bdc0>"
      ]
     },
     "execution_count": 14,
     "metadata": {},
     "output_type": "execute_result"
    }
   ],
   "source": [
    "model = Sequential()\n",
    "\n",
    "# Adding the first LSTM layer \n",
    "# Here return_sequences=True means whether to return the last output in the output sequence, or the full sequence.\n",
    "# it basically tells us that there is another(or more) LSTM layer ahead in the network.\n",
    "model.add(LSTM(units = 50, return_sequences = True, input_shape = (X_train.shape[1], 1)))\n",
    "# Dropout regularisation for tackling overfitting\n",
    "model.add(Dropout(0.20))\n",
    "\n",
    "model.add(LSTM(units = 50, return_sequences = True))\n",
    "model.add(Dropout(0.25))\n",
    "\n",
    "model.add(LSTM(units = 50, return_sequences = True))\n",
    "model.add(Dropout(0.25))\n",
    "\n",
    "model.add(LSTM(units = 50))\n",
    "model.add(Dropout(0.25))\n",
    "\n",
    "# Adding the output layer\n",
    "model.add(Dense(units = 1))\n",
    "\n",
    "# Compiling the RNN\n",
    "# RMSprop is a recommended optimizer as per keras documentation\n",
    "# check out https://keras.io/optimizers/ for more details\n",
    "model.compile(optimizer = 'adam', loss = 'mean_squared_error')\n",
    "\n",
    "# Fitting the RNN to the Training set\n",
    "model.fit(X_train, y_train, epochs = 100, batch_size = 32)"
   ]
  },
  {
   "cell_type": "code",
   "execution_count": 15,
   "id": "cd7706f2-5fa9-4a1d-a05f-ad4d8caa0ede",
   "metadata": {},
   "outputs": [],
   "source": [
    "# this will be used later while comparing and visualization\n",
    "real_stock_price = test_data.iloc[:,1:2].values"
   ]
  },
  {
   "cell_type": "code",
   "execution_count": 16,
   "id": "62299c92-7af0-4063-9aa9-23dfbd8d644a",
   "metadata": {},
   "outputs": [],
   "source": [
    "# combine original train and test data vertically\n",
    "# as previous Open Prices are not present in test dataset\n",
    "# e.g. for predicting Open price for first date in test data, we will need stock open prices on 60 previous dates  \n",
    "combine = pd.concat((train_data['Open'], test_data['Open']), axis = 0)\n",
    "# our test inputs also contains stock open Prices of last 60 dates (as described above)\n",
    "test_inputs = combine[len(combine) - len(test_data) - 60:].values\n",
    "test_inputs = test_inputs.reshape(-1,1)\n",
    "test_inputs = scaler.transform(test_inputs)"
   ]
  },
  {
   "cell_type": "code",
   "execution_count": 17,
   "id": "d0fd5f54-0e1b-4dd5-9c77-40f085b0012d",
   "metadata": {},
   "outputs": [
    {
     "data": {
      "text/plain": [
       "(420, 7)"
      ]
     },
     "execution_count": 17,
     "metadata": {},
     "output_type": "execute_result"
    }
   ],
   "source": [
    "test_data.shape"
   ]
  },
  {
   "cell_type": "code",
   "execution_count": 18,
   "id": "39fae8a6-17dc-4e78-9078-e8b7a690910c",
   "metadata": {},
   "outputs": [
    {
     "name": "stdout",
     "output_type": "stream",
     "text": [
      "14/14 [==============================] - 6s 57ms/step\n"
     ]
    }
   ],
   "source": [
    "# same steps as we followed while processing training data\n",
    "X_test = []\n",
    "for i in range(60, 480):\n",
    "    X_test.append(test_inputs[i-60:i, 0])\n",
    "X_test = np.array(X_test)\n",
    "X_test = np.reshape(X_test, (X_test.shape[0], X_test.shape[1], 1))\n",
    "predicted_stock_price = model.predict(X_test)\n",
    "# inverse_transform because prediction is done on scaled inputs\n",
    "predicted_stock_price = scaler.inverse_transform(predicted_stock_price)"
   ]
  },
  {
   "cell_type": "code",
   "execution_count": 19,
   "id": "b28dfe2c-6baa-4d88-8802-245bcb953b13",
   "metadata": {},
   "outputs": [
    {
     "data": {
      "image/png": "[encoded data removed]",
      "text/plain": [
       "<Figure size 1080x432 with 1 Axes>"
      ]
     },
     "metadata": {
      "needs_background": "light"
     },
     "output_type": "display_data"
    }
   ],
   "source": [
    "plt.plot(real_stock_price, color = 'red', label = 'Real APPL Stock Price')\n",
    "plt.plot(predicted_stock_price, color = 'blue', label = 'Predicted APPL Stock Price')\n",
    "plt.title('APPL Stock Price Prediction')\n",
    "plt.xlabel('Time')\n",
    "plt.ylabel('APPL Stock Price')\n",
    "plt.legend()\n",
    "plt.show()"
   ]
  },
  {
   "cell_type": "code",
   "execution_count": null,
   "id": "d8ce5fe0-78fd-4aaf-a893-d9f3d5b926cd",
   "metadata": {},
   "outputs": [],
   "source": []
  }
 ],
 "metadata": {
  "kernelspec": {
   "display_name": "Python 3 (ipykernel)",
   "language": "python",
   "name": "python3"
  },
  "language_info": {
   "codemirror_mode": {
    "name": "ipython",
    "version": 3
   },
   "file_extension": ".py",
   "mimetype": "text/x-python",
   "name": "python",
   "nbconvert_exporter": "python",
   "pygments_lexer": "ipython3",
   "version": "3.9.12"
  }
 },
 "nbformat": 4,
 "nbformat_minor": 5
}
